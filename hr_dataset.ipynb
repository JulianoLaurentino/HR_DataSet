{
 "cells": [
  {
   "cell_type": "code",
   "execution_count": 125,
   "id": "c906e1ce",
   "metadata": {},
   "outputs": [],
   "source": [
    "import pandas as pd\n",
    "import numpy as np\n",
    "from datetime import datetime"
   ]
  },
  {
   "cell_type": "code",
   "execution_count": 126,
   "id": "16acd1ec",
   "metadata": {},
   "outputs": [],
   "source": [
    "df = pd.read_excel('HRDataset_v14.xlsx')"
   ]
  },
  {
   "cell_type": "code",
   "execution_count": 127,
   "id": "ec3b954e",
   "metadata": {
    "collapsed": true
   },
   "outputs": [
    {
     "data": {
      "text/plain": [
       "(311, 37)"
      ]
     },
     "execution_count": 127,
     "metadata": {},
     "output_type": "execute_result"
    }
   ],
   "source": [
    "df.shape"
   ]
  },
  {
   "cell_type": "markdown",
   "id": "8a988fd1",
   "metadata": {},
   "source": [
    "### Visualizando todas as colunas"
   ]
  },
  {
   "cell_type": "code",
   "execution_count": 128,
   "id": "7c9d158f",
   "metadata": {},
   "outputs": [],
   "source": [
    "pd.set_option('Display.max_columns',38)"
   ]
  },
  {
   "cell_type": "markdown",
   "id": "3209bcca",
   "metadata": {},
   "source": [
    "### Formatando datas"
   ]
  },
  {
   "cell_type": "code",
   "execution_count": 129,
   "id": "ce89132f",
   "metadata": {},
   "outputs": [],
   "source": [
    "df['DateofTermination'] = pd.to_datetime(df.DateofTermination)\n",
    "df['DayslateLast30'] = pd.to_datetime(df.DaysLateLast30)\n",
    "df['LastPerformanceReview_Date'] = pd.to_datetime(df.LastPerformanceReview_Date)\n",
    "df['DateofTermination'] = pd.to_datetime(df.DateofTermination)\n",
    "df['DateofHire'] = pd.to_datetime(df.DateofHire)\n",
    "df['DOB'] = pd.to_datetime(df.DOB)"
   ]
  },
  {
   "cell_type": "markdown",
   "id": "ccf2110b",
   "metadata": {},
   "source": [
    "### Alterando o nome de uma coluna"
   ]
  },
  {
   "cell_type": "code",
   "execution_count": 130,
   "id": "ae4b0ef2",
   "metadata": {},
   "outputs": [],
   "source": [
    "df.rename(columns = {'DOB':'DateofBirth'},inplace=True)"
   ]
  },
  {
   "cell_type": "markdown",
   "id": "801e719a",
   "metadata": {},
   "source": [
    "### Criando cálculo de HC + BH + Age"
   ]
  },
  {
   "cell_type": "code",
   "execution_count": 131,
   "id": "90956aa6",
   "metadata": {},
   "outputs": [],
   "source": [
    "df['Headcount'] = np.where(df['EmploymentStatus'] == 'Active', 1,0)"
   ]
  },
  {
   "cell_type": "code",
   "execution_count": 132,
   "id": "04038f0e",
   "metadata": {},
   "outputs": [],
   "source": [
    "df['BadHire'] = (df['DateofTermination'] - df['DateofHire']).dt.days + 1"
   ]
  },
  {
   "cell_type": "code",
   "execution_count": 133,
   "id": "33f9aadb",
   "metadata": {},
   "outputs": [],
   "source": [
    "df['DateNow'] = datetime.today().strftime('%Y-%m-%d')"
   ]
  },
  {
   "cell_type": "code",
   "execution_count": 134,
   "id": "760a458b",
   "metadata": {},
   "outputs": [],
   "source": [
    "df['DateNow'] = pd.to_datetime(df.DateNow)"
   ]
  },
  {
   "cell_type": "code",
   "execution_count": 135,
   "id": "b08eadde",
   "metadata": {},
   "outputs": [],
   "source": [
    "df['Age'] = (df['DateNow'] - df['DateofBirth']).astype('<m8[Y]')"
   ]
  },
  {
   "cell_type": "code",
   "execution_count": 140,
   "id": "4ff664e4",
   "metadata": {},
   "outputs": [],
   "source": [
    "df['BadHireCalc'] = np.where(df['BadHire'] < 30, 1,0)"
   ]
  },
  {
   "cell_type": "code",
   "execution_count": 146,
   "id": "84ccaea0",
   "metadata": {},
   "outputs": [],
   "source": [
    "df['Fired'] = np.where(df['Headcount'] == 0, 1,0)"
   ]
  },
  {
   "cell_type": "code",
   "execution_count": 148,
   "id": "c9d888a5",
   "metadata": {},
   "outputs": [],
   "source": [
    "df.to_excel('D:/Users/Inked/Documents/JULIANO/workspace/Datasets/hr_dataset.xlsx')"
   ]
  }
 ],
 "metadata": {
  "kernelspec": {
   "display_name": "Python 3 (ipykernel)",
   "language": "python",
   "name": "python3"
  },
  "language_info": {
   "codemirror_mode": {
    "name": "ipython",
    "version": 3
   },
   "file_extension": ".py",
   "mimetype": "text/x-python",
   "name": "python",
   "nbconvert_exporter": "python",
   "pygments_lexer": "ipython3",
   "version": "3.9.13"
  }
 },
 "nbformat": 4,
 "nbformat_minor": 5
}
